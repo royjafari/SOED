{
 "cells": [
  {
   "cell_type": "code",
   "execution_count": 2,
   "id": "7a851bda-ced0-4468-be70-4154e72003f3",
   "metadata": {},
   "outputs": [],
   "source": [
    "import numpy as np\n",
    "import pandas as pd\n",
    "from sklearn.tree import DecisionTreeClassifier\n",
    "from sklearn.neural_network import MLPClassifier\n",
    "from soed import SOEDClassifier\n",
    "from sklearn.metrics import precision_score, recall_score, roc_auc_score, accuracy_score"
   ]
  },
  {
   "cell_type": "code",
   "execution_count": 8,
   "id": "a14e7ea5-0d0e-4e2d-97ee-4509e17b5f81",
   "metadata": {},
   "outputs": [],
   "source": [
    "feature_df = pd.read_pickle('stock_feature_df.pkl')\n",
    "feature_df['binary_sell'] = np.where(feature_df.alpaca_m1_label_480__share_holder_label=='Sell',1,0)\n",
    "feature_df['binary_buy'] = np.where(feature_df.alpaca_m1_label_480__cash_holder_label=='Buy',1,0)\n",
    "\n",
    "predictors = ['alpaca_m1_slope_15__slope',\n",
    "              'alpaca_m1_slope_60__slope',\n",
    "              'alpaca_m1_slope_120__slope',\n",
    "              'alpaca_m1_slope_240__slope']\n",
    "\n",
    "feature_df.timeStamp = pd.to_datetime(feature_df.timeStamp)\n",
    "\n",
    "BM = feature_df.timeStamp < pd.to_datetime('2024-01-01T00:00:00.000Z')\n",
    "\n",
    "train_df = feature_df[BM]\n",
    "test_df = feature_df[~BM]\n",
    "\n",
    "X = train_df[predictors]\n",
    "y = train_df.binary_sell\n",
    "c = train_df.alpaca_m1_label_480__change_percent\n",
    "\n",
    "c2 = np.zeros([len(c),2])\n",
    "c2[:,0] = np.where(c<0,-c,0.0)\n",
    "c2[:,1] = np.where(c>0,c,0.0)"
   ]
  },
  {
   "cell_type": "code",
   "execution_count": null,
   "id": "6ec46545-cdc2-4188-b0fc-25600d704e10",
   "metadata": {},
   "outputs": [],
   "source": []
  },
  {
   "cell_type": "code",
   "execution_count": 16,
   "id": "64fa1b44-8294-4de4-a24c-a49292493b63",
   "metadata": {},
   "outputs": [
    {
     "data": {
      "text/plain": [
       "binary_sell\n",
       "0    0.000445\n",
       "1    0.000239\n",
       "Name: alpaca_m1_slope_240__slope, dtype: float64"
      ]
     },
     "execution_count": 16,
     "metadata": {},
     "output_type": "execute_result"
    }
   ],
   "source": [
    "feature_df.groupby('binary_sell').alpaca_m1_slope_240__slope.mean()"
   ]
  },
  {
   "cell_type": "code",
   "execution_count": 17,
   "id": "31b58519-51bb-422a-9e9d-371747ca9848",
   "metadata": {},
   "outputs": [
    {
     "data": {
      "text/plain": [
       "binary_sell\n",
       "0    0.000736\n",
       "1    0.000415\n",
       "Name: alpaca_m1_slope_120__slope, dtype: float64"
      ]
     },
     "execution_count": 17,
     "metadata": {},
     "output_type": "execute_result"
    }
   ],
   "source": [
    "feature_df.groupby('binary_sell').alpaca_m1_slope_120__slope.mean()"
   ]
  },
  {
   "cell_type": "code",
   "execution_count": 18,
   "id": "2265f1ba-2446-4d45-923e-02dc187f1ca2",
   "metadata": {},
   "outputs": [
    {
     "data": {
      "text/plain": [
       "binary_sell\n",
       "0    0.001220\n",
       "1    0.000573\n",
       "Name: alpaca_m1_slope_60__slope, dtype: float64"
      ]
     },
     "execution_count": 18,
     "metadata": {},
     "output_type": "execute_result"
    }
   ],
   "source": [
    "feature_df.groupby('binary_sell').alpaca_m1_slope_60__slope.mean()"
   ]
  },
  {
   "cell_type": "code",
   "execution_count": 19,
   "id": "48516c63-c815-4977-987f-a49a1dc59540",
   "metadata": {},
   "outputs": [
    {
     "data": {
      "text/plain": [
       "binary_sell\n",
       "0    0.003172\n",
       "1    0.001494\n",
       "Name: alpaca_m1_slope_15__slope, dtype: float64"
      ]
     },
     "execution_count": 19,
     "metadata": {},
     "output_type": "execute_result"
    }
   ],
   "source": [
    "feature_df.groupby('binary_sell').alpaca_m1_slope_15__slope.mean()"
   ]
  },
  {
   "cell_type": "code",
   "execution_count": 9,
   "id": "4899627c-b9d3-401e-b3f7-b8dd02176f91",
   "metadata": {},
   "outputs": [
    {
     "name": "stdout",
     "output_type": "stream",
     "text": [
      "version 1.0.8\n",
      "Model training complete.\n",
      "{'recall': 0.2171553090332805, 'precision': 0.3100639248741302, 'accuracy': 0.6151622809658578, 'auc': np.float64(0.5034839397652422)}\n",
      "{'recall': 0.4231378763866878, 'precision': 0.3054133661242815, 'accuracy': 0.5321370506412958, 'auc': np.float64(0.503038058789955)}\n"
     ]
    }
   ],
   "source": [
    "soed = SOEDClassifier(som_x=15,som_y=15,som_input_len=X.shape[1])\n",
    "soed.fit(X.values,y,c2)\n",
    "\n",
    "\n",
    "X_test = test_df[predictors]\n",
    "y_test = test_df.binary_sell\n",
    "\n",
    "y_decide = soed.decide(X_test)\n",
    "y_util = soed.decide_util(X_test)\n",
    "\n",
    "y_predict = soed.predict(X_test)\n",
    "y_prob = soed.predict_proba(X_test)\n",
    "\n",
    "recall = recall_score(y_test,y_predict)\n",
    "precision = precision_score(y_test,y_predict)\n",
    "accuracy = accuracy_score(y_test,y_predict)\n",
    "auc = roc_auc_score(y_test,y_prob[:,1])\n",
    "\n",
    "performance = {'recall':recall,'precision':precision,'accuracy':accuracy,'auc':auc}\n",
    "print(performance)\n",
    "\n",
    "recall = recall_score(y_test,y_decide)\n",
    "precision = precision_score(y_test,y_decide)\n",
    "accuracy = accuracy_score(y_test,y_decide)\n",
    "auc = roc_auc_score(y_test,y_util[:,1])\n",
    "\n",
    "performance = {'recall':recall,'precision':precision,'accuracy':accuracy,'auc':auc}\n",
    "print(performance)"
   ]
  },
  {
   "cell_type": "code",
   "execution_count": 10,
   "id": "733e3f4c-ffbd-4418-8954-fcc9d41264ee",
   "metadata": {},
   "outputs": [
    {
     "data": {
      "text/html": [
       "<div>\n",
       "<style scoped>\n",
       "    .dataframe tbody tr th:only-of-type {\n",
       "        vertical-align: middle;\n",
       "    }\n",
       "\n",
       "    .dataframe tbody tr th {\n",
       "        vertical-align: top;\n",
       "    }\n",
       "\n",
       "    .dataframe thead th {\n",
       "        text-align: right;\n",
       "    }\n",
       "</style>\n",
       "<table border=\"1\" class=\"dataframe\">\n",
       "  <thead>\n",
       "    <tr style=\"text-align: right;\">\n",
       "      <th></th>\n",
       "      <th>DT</th>\n",
       "      <th>MLP</th>\n",
       "      <th>SOED</th>\n",
       "    </tr>\n",
       "  </thead>\n",
       "  <tbody>\n",
       "    <tr>\n",
       "      <th>repeat1</th>\n",
       "      <td>NaN</td>\n",
       "      <td>NaN</td>\n",
       "      <td>NaN</td>\n",
       "    </tr>\n",
       "  </tbody>\n",
       "</table>\n",
       "</div>"
      ],
      "text/plain": [
       "          DT  MLP SOED\n",
       "repeat1  NaN  NaN  NaN"
      ]
     },
     "execution_count": 10,
     "metadata": {},
     "output_type": "execute_result"
    }
   ],
   "source": [
    "report_df = pd.DataFrame(index = [f'repeat{i}' for i in range(1,2)],\n",
    "                         columns = ['DT','MLP','SOED'] )\n",
    "report_df"
   ]
  },
  {
   "cell_type": "code",
   "execution_count": 11,
   "id": "3552eae9-3c3a-4bf1-9c71-a93da4fe3fff",
   "metadata": {},
   "outputs": [
    {
     "name": "stdout",
     "output_type": "stream",
     "text": [
      "version 1.0.8\n",
      "Model training complete.\n"
     ]
    }
   ],
   "source": [
    "for loop_i in range(1,2):\n",
    "\n",
    "    #soed\n",
    "    soed = SOEDClassifier(som_x=20,som_y=20,som_sigma=7)\n",
    "    soed.fit(X.values,y)\n",
    "    y_proba = soed.predict_proba(X_test.values)\n",
    "    auc = roc_auc_score(y_test,y_proba[:,1])\n",
    "    report_df.loc[f'repeat{loop_i}','SOED'] = auc\n",
    "\n",
    "    #dt\n",
    "    dt = DecisionTreeClassifier(max_depth=10)\n",
    "    dt.fit(X.values,y)\n",
    "    y_proba = dt.predict_proba(X_test.values)\n",
    "    auc = roc_auc_score(y_test,y_proba[:,1])\n",
    "    report_df.loc[f'repeat{loop_i}','DT'] = auc\n",
    "\n",
    "    #mlp\n",
    "    mlp = MLPClassifier(max_iter=10000)\n",
    "    mlp.fit(X.values,y)\n",
    "    y_proba = mlp.predict_proba(X_test.values)\n",
    "    auc = roc_auc_score(y_test,y_proba[:,1])\n",
    "    report_df.loc[f'repeat{loop_i}','MLP'] = auc\n",
    "\n",
    "report_df.loc['Average'] = report_df.mean()"
   ]
  },
  {
   "cell_type": "code",
   "execution_count": 12,
   "id": "f82dc68a-63dc-4b72-9b2f-67321eb411ca",
   "metadata": {},
   "outputs": [
    {
     "data": {
      "text/html": [
       "<div>\n",
       "<style scoped>\n",
       "    .dataframe tbody tr th:only-of-type {\n",
       "        vertical-align: middle;\n",
       "    }\n",
       "\n",
       "    .dataframe tbody tr th {\n",
       "        vertical-align: top;\n",
       "    }\n",
       "\n",
       "    .dataframe thead th {\n",
       "        text-align: right;\n",
       "    }\n",
       "</style>\n",
       "<table border=\"1\" class=\"dataframe\">\n",
       "  <thead>\n",
       "    <tr style=\"text-align: right;\">\n",
       "      <th></th>\n",
       "      <th>DT</th>\n",
       "      <th>MLP</th>\n",
       "      <th>SOED</th>\n",
       "    </tr>\n",
       "  </thead>\n",
       "  <tbody>\n",
       "    <tr>\n",
       "      <th>repeat1</th>\n",
       "      <td>0.505921</td>\n",
       "      <td>0.506796</td>\n",
       "      <td>0.503702</td>\n",
       "    </tr>\n",
       "    <tr>\n",
       "      <th>Average</th>\n",
       "      <td>0.505921</td>\n",
       "      <td>0.506796</td>\n",
       "      <td>0.503702</td>\n",
       "    </tr>\n",
       "  </tbody>\n",
       "</table>\n",
       "</div>"
      ],
      "text/plain": [
       "               DT       MLP      SOED\n",
       "repeat1  0.505921  0.506796  0.503702\n",
       "Average  0.505921  0.506796  0.503702"
      ]
     },
     "execution_count": 12,
     "metadata": {},
     "output_type": "execute_result"
    }
   ],
   "source": [
    "report_df"
   ]
  },
  {
   "cell_type": "code",
   "execution_count": null,
   "id": "176e8ba2-141b-4d40-9c6c-6207c88f401b",
   "metadata": {},
   "outputs": [],
   "source": []
  }
 ],
 "metadata": {
  "kernelspec": {
   "display_name": "Python 3 (ipykernel)",
   "language": "python",
   "name": "python3"
  },
  "language_info": {
   "codemirror_mode": {
    "name": "ipython",
    "version": 3
   },
   "file_extension": ".py",
   "mimetype": "text/x-python",
   "name": "python",
   "nbconvert_exporter": "python",
   "pygments_lexer": "ipython3",
   "version": "3.12.4"
  }
 },
 "nbformat": 4,
 "nbformat_minor": 5
}
